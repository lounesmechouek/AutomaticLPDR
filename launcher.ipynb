{
 "cells": [
  {
   "cell_type": "markdown",
   "metadata": {},
   "source": [
    "# Bienvenue\n",
    "Ce notebook vous guidera afin de correctement configurer l'environnement python nécessaire au bon fonctionnement du projet. Avant de commencer, veuillez vérifier que vous avez bien installé Python sur votre machine. La version utilisée par nos soins est **Python 3.9.9**, nous vous conseillons donc d'utiliser cette dernière."
   ]
  },
  {
   "cell_type": "markdown",
   "metadata": {},
   "source": [
    "## 1. Création et activation de l'environnement virtuel\n"
   ]
  },
  {
   "cell_type": "code",
   "execution_count": 1,
   "metadata": {},
   "outputs": [],
   "source": [
    "!python -m venv gtp\n",
    "!\"./gtp/Scripts/activate\""
   ]
  },
  {
   "cell_type": "markdown",
   "metadata": {},
   "source": [
    "**Ajout de l'environnement au kernel**"
   ]
  },
  {
   "cell_type": "code",
   "execution_count": null,
   "metadata": {},
   "outputs": [],
   "source": [
    "!\"./gtp/Scripts/python.exe\" -m pip install --upgrade pip\n",
    "!\"./gtp/Scripts/pip.exe\" install ipykernel\n",
    "!\"./gtp/Scripts/python.exe\" -m ipykernel install --user --name=gtp"
   ]
  },
  {
   "cell_type": "markdown",
   "metadata": {},
   "source": [
    "Si tout s'est bien exécuté jusqu'ici, fermez le notebook et rouvrez-le afin de voir apparaître \"gtp\" dans la liste les kernels pour le notebook. Sélectionnez-le."
   ]
  },
  {
   "cell_type": "markdown",
   "metadata": {},
   "source": [
    "## 2. Installation des dépendances"
   ]
  },
  {
   "cell_type": "markdown",
   "metadata": {},
   "source": [
    "### Remarque :\n",
    "Nous avons utilisé **pytorch 1.11.0** avec la version **11.3 de cudnn** afin d'entraîner nos modèles. \n",
    "\n",
    "Si vous souhaitez : ré-entrainer les modèles, tester un dataset ou effectuer des inférences avec une autre version de pytorch ou de cudnn, veuillez vérifier que ces dernières sont bien compatibles avec les implémentations de YoloV5 et SAR que nous avons utilisées."
   ]
  },
  {
   "cell_type": "code",
   "execution_count": null,
   "metadata": {},
   "outputs": [],
   "source": [
    "!\"./gtp/Scripts/pip.exe\" install -r requirements.txt"
   ]
  },
  {
   "cell_type": "code",
   "execution_count": 1,
   "metadata": {},
   "outputs": [],
   "source": [
    "\"./gtp/Scripts/pip.exe\" --no-cache-dir install torch==1.11.0+cu113 torchvision==0.12.0+cu113 --extra-index-url https://download.pytorch.org/whl/cu113"
   ]
  },
  {
   "cell_type": "markdown",
   "metadata": {},
   "source": [
    "## 3. Tests\n",
    "Afin de vérifier que tout fonctionne correctement"
   ]
  }
 ],
 "metadata": {
  "kernelspec": {
   "display_name": "Python 3.9.9 ('gtp': venv)",
   "language": "python",
   "name": "python3"
  },
  "language_info": {
   "codemirror_mode": {
    "name": "ipython",
    "version": 3
   },
   "file_extension": ".py",
   "mimetype": "text/x-python",
   "name": "python",
   "nbconvert_exporter": "python",
   "pygments_lexer": "ipython3",
   "version": "3.9.9"
  },
  "orig_nbformat": 4,
  "vscode": {
   "interpreter": {
    "hash": "0a066e64f76f1bb95fc707527999178cbf580e4246bff8fae44061258926b497"
   }
  }
 },
 "nbformat": 4,
 "nbformat_minor": 2
}
